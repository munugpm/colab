{
  "nbformat": 4,
  "nbformat_minor": 0,
  "metadata": {
    "colab": {
      "name": "pandas.ipynb",
      "provenance": [],
      "authorship_tag": "ABX9TyNlGdpwm65IIaqq+RaARwni",
      "include_colab_link": true
    },
    "kernelspec": {
      "name": "python3",
      "display_name": "Python 3"
    }
  },
  "cells": [
    {
      "cell_type": "markdown",
      "metadata": {
        "id": "view-in-github",
        "colab_type": "text"
      },
      "source": [
        "<a href=\"https://colab.research.google.com/github/munugpm/colab/blob/main/pandas.ipynb\" target=\"_parent\"><img src=\"https://colab.research.google.com/assets/colab-badge.svg\" alt=\"Open In Colab\"/></a>"
      ]
    },
    {
      "cell_type": "code",
      "metadata": {
        "id": "-scsq3mwUmqL"
      },
      "source": [
        "import pandas as pd"
      ],
      "execution_count": 1,
      "outputs": []
    },
    {
      "cell_type": "code",
      "metadata": {
        "id": "eLJYuEENUty4"
      },
      "source": [
        "dataseries = {'field': [4,5,6,9]}\n",
        "data = {\n",
        "    'apples': [3, 2, 0, 1], \n",
        "    'oranges': [0, 3, 7, 2]\n",
        "}"
      ],
      "execution_count": 7,
      "outputs": []
    },
    {
      "cell_type": "code",
      "metadata": {
        "colab": {
          "base_uri": "https://localhost:8080/"
        },
        "id": "Bxv9-wTjUuv0",
        "outputId": "8111bcde-3bc5-4820-b3e1-91ff68c5d193"
      },
      "source": [
        "dataseries"
      ],
      "execution_count": 8,
      "outputs": [
        {
          "output_type": "execute_result",
          "data": {
            "text/plain": [
              "{'field': [4, 5, 6, 9]}"
            ]
          },
          "metadata": {
            "tags": []
          },
          "execution_count": 8
        }
      ]
    },
    {
      "cell_type": "code",
      "metadata": {
        "id": "GAZakIlbXmcN"
      },
      "source": [
        "purchases = pd.DataFrame(data)\n",
        "series = pd.DataFrame(dataseries)"
      ],
      "execution_count": 10,
      "outputs": []
    },
    {
      "cell_type": "code",
      "metadata": {
        "colab": {
          "base_uri": "https://localhost:8080/",
          "height": 173
        },
        "id": "RC9jqD-IXwpu",
        "outputId": "5026571e-6cab-477f-9006-34dd6cfb8e96"
      },
      "source": [
        "series"
      ],
      "execution_count": 11,
      "outputs": [
        {
          "output_type": "execute_result",
          "data": {
            "text/html": [
              "<div>\n",
              "<style scoped>\n",
              "    .dataframe tbody tr th:only-of-type {\n",
              "        vertical-align: middle;\n",
              "    }\n",
              "\n",
              "    .dataframe tbody tr th {\n",
              "        vertical-align: top;\n",
              "    }\n",
              "\n",
              "    .dataframe thead th {\n",
              "        text-align: right;\n",
              "    }\n",
              "</style>\n",
              "<table border=\"1\" class=\"dataframe\">\n",
              "  <thead>\n",
              "    <tr style=\"text-align: right;\">\n",
              "      <th></th>\n",
              "      <th>field</th>\n",
              "    </tr>\n",
              "  </thead>\n",
              "  <tbody>\n",
              "    <tr>\n",
              "      <th>0</th>\n",
              "      <td>4</td>\n",
              "    </tr>\n",
              "    <tr>\n",
              "      <th>1</th>\n",
              "      <td>5</td>\n",
              "    </tr>\n",
              "    <tr>\n",
              "      <th>2</th>\n",
              "      <td>6</td>\n",
              "    </tr>\n",
              "    <tr>\n",
              "      <th>3</th>\n",
              "      <td>9</td>\n",
              "    </tr>\n",
              "  </tbody>\n",
              "</table>\n",
              "</div>"
            ],
            "text/plain": [
              "   field\n",
              "0      4\n",
              "1      5\n",
              "2      6\n",
              "3      9"
            ]
          },
          "metadata": {
            "tags": []
          },
          "execution_count": 11
        }
      ]
    },
    {
      "cell_type": "code",
      "metadata": {
        "id": "VuaiP4jfXypb"
      },
      "source": [
        "#Add index\n",
        "purchasewithindex = pd.DataFrame(data,index=['A','B','C','D'])"
      ],
      "execution_count": 12,
      "outputs": []
    },
    {
      "cell_type": "code",
      "metadata": {
        "colab": {
          "base_uri": "https://localhost:8080/",
          "height": 173
        },
        "id": "QnNdSVinYnAv",
        "outputId": "2da5be4a-7fbf-430e-c1a1-30b9bd991578"
      },
      "source": [
        "purchasewithindex"
      ],
      "execution_count": 13,
      "outputs": [
        {
          "output_type": "execute_result",
          "data": {
            "text/html": [
              "<div>\n",
              "<style scoped>\n",
              "    .dataframe tbody tr th:only-of-type {\n",
              "        vertical-align: middle;\n",
              "    }\n",
              "\n",
              "    .dataframe tbody tr th {\n",
              "        vertical-align: top;\n",
              "    }\n",
              "\n",
              "    .dataframe thead th {\n",
              "        text-align: right;\n",
              "    }\n",
              "</style>\n",
              "<table border=\"1\" class=\"dataframe\">\n",
              "  <thead>\n",
              "    <tr style=\"text-align: right;\">\n",
              "      <th></th>\n",
              "      <th>apples</th>\n",
              "      <th>oranges</th>\n",
              "    </tr>\n",
              "  </thead>\n",
              "  <tbody>\n",
              "    <tr>\n",
              "      <th>A</th>\n",
              "      <td>3</td>\n",
              "      <td>0</td>\n",
              "    </tr>\n",
              "    <tr>\n",
              "      <th>B</th>\n",
              "      <td>2</td>\n",
              "      <td>3</td>\n",
              "    </tr>\n",
              "    <tr>\n",
              "      <th>C</th>\n",
              "      <td>0</td>\n",
              "      <td>7</td>\n",
              "    </tr>\n",
              "    <tr>\n",
              "      <th>D</th>\n",
              "      <td>1</td>\n",
              "      <td>2</td>\n",
              "    </tr>\n",
              "  </tbody>\n",
              "</table>\n",
              "</div>"
            ],
            "text/plain": [
              "   apples  oranges\n",
              "A       3        0\n",
              "B       2        3\n",
              "C       0        7\n",
              "D       1        2"
            ]
          },
          "metadata": {
            "tags": []
          },
          "execution_count": 13
        }
      ]
    },
    {
      "cell_type": "code",
      "metadata": {
        "colab": {
          "base_uri": "https://localhost:8080/"
        },
        "id": "fJVp9WcVYpCC",
        "outputId": "21c0c526-0a1d-4332-978f-2db1a747aa91"
      },
      "source": [
        "#So now we could locate a customer's order by using their name:\n",
        "\n",
        "purchasewithindex.loc['B']"
      ],
      "execution_count": 15,
      "outputs": [
        {
          "output_type": "execute_result",
          "data": {
            "text/plain": [
              "apples     2\n",
              "oranges    3\n",
              "Name: B, dtype: int64"
            ]
          },
          "metadata": {
            "tags": []
          },
          "execution_count": 15
        }
      ]
    },
    {
      "cell_type": "code",
      "metadata": {
        "id": "PenCQtlxYzoG"
      },
      "source": [
        "#Reading data from CSVs\n",
        "readingfromfile = pd.read_csv('sample_data/california_housing_test.csv')\n",
        "readingfromfile_index = pd.read_csv('sample_data/california_housing_test.csv',index_col=0)"
      ],
      "execution_count": 22,
      "outputs": []
    },
    {
      "cell_type": "code",
      "metadata": {
        "colab": {
          "base_uri": "https://localhost:8080/",
          "height": 173
        },
        "id": "PZjy7pTqZOpn",
        "outputId": "e7c9fcd7-0588-4ee9-f7e5-8bbe1bf357f7"
      },
      "source": [
        "#!ls sample_data\n",
        "readingfromfile_index.head(3)"
      ],
      "execution_count": 23,
      "outputs": [
        {
          "output_type": "execute_result",
          "data": {
            "text/html": [
              "<div>\n",
              "<style scoped>\n",
              "    .dataframe tbody tr th:only-of-type {\n",
              "        vertical-align: middle;\n",
              "    }\n",
              "\n",
              "    .dataframe tbody tr th {\n",
              "        vertical-align: top;\n",
              "    }\n",
              "\n",
              "    .dataframe thead th {\n",
              "        text-align: right;\n",
              "    }\n",
              "</style>\n",
              "<table border=\"1\" class=\"dataframe\">\n",
              "  <thead>\n",
              "    <tr style=\"text-align: right;\">\n",
              "      <th></th>\n",
              "      <th>latitude</th>\n",
              "      <th>housing_median_age</th>\n",
              "      <th>total_rooms</th>\n",
              "      <th>total_bedrooms</th>\n",
              "      <th>population</th>\n",
              "      <th>households</th>\n",
              "      <th>median_income</th>\n",
              "      <th>median_house_value</th>\n",
              "    </tr>\n",
              "    <tr>\n",
              "      <th>longitude</th>\n",
              "      <th></th>\n",
              "      <th></th>\n",
              "      <th></th>\n",
              "      <th></th>\n",
              "      <th></th>\n",
              "      <th></th>\n",
              "      <th></th>\n",
              "      <th></th>\n",
              "    </tr>\n",
              "  </thead>\n",
              "  <tbody>\n",
              "    <tr>\n",
              "      <th>-122.05</th>\n",
              "      <td>37.37</td>\n",
              "      <td>27.0</td>\n",
              "      <td>3885.0</td>\n",
              "      <td>661.0</td>\n",
              "      <td>1537.0</td>\n",
              "      <td>606.0</td>\n",
              "      <td>6.6085</td>\n",
              "      <td>344700.0</td>\n",
              "    </tr>\n",
              "    <tr>\n",
              "      <th>-118.30</th>\n",
              "      <td>34.26</td>\n",
              "      <td>43.0</td>\n",
              "      <td>1510.0</td>\n",
              "      <td>310.0</td>\n",
              "      <td>809.0</td>\n",
              "      <td>277.0</td>\n",
              "      <td>3.5990</td>\n",
              "      <td>176500.0</td>\n",
              "    </tr>\n",
              "    <tr>\n",
              "      <th>-117.81</th>\n",
              "      <td>33.78</td>\n",
              "      <td>27.0</td>\n",
              "      <td>3589.0</td>\n",
              "      <td>507.0</td>\n",
              "      <td>1484.0</td>\n",
              "      <td>495.0</td>\n",
              "      <td>5.7934</td>\n",
              "      <td>270500.0</td>\n",
              "    </tr>\n",
              "  </tbody>\n",
              "</table>\n",
              "</div>"
            ],
            "text/plain": [
              "           latitude  housing_median_age  ...  median_income  median_house_value\n",
              "longitude                                ...                                   \n",
              "-122.05       37.37                27.0  ...         6.6085            344700.0\n",
              "-118.30       34.26                43.0  ...         3.5990            176500.0\n",
              "-117.81       33.78                27.0  ...         5.7934            270500.0\n",
              "\n",
              "[3 rows x 8 columns]"
            ]
          },
          "metadata": {
            "tags": []
          },
          "execution_count": 23
        }
      ]
    },
    {
      "cell_type": "code",
      "metadata": {
        "colab": {
          "base_uri": "https://localhost:8080/",
          "height": 297
        },
        "id": "psVIpSQ3ZPr1",
        "outputId": "901cf28a-4971-4d46-bdc0-6ba3b82e9365"
      },
      "source": [
        "readingfromfile_index.loc[-122.05]"
      ],
      "execution_count": 24,
      "outputs": [
        {
          "output_type": "execute_result",
          "data": {
            "text/html": [
              "<div>\n",
              "<style scoped>\n",
              "    .dataframe tbody tr th:only-of-type {\n",
              "        vertical-align: middle;\n",
              "    }\n",
              "\n",
              "    .dataframe tbody tr th {\n",
              "        vertical-align: top;\n",
              "    }\n",
              "\n",
              "    .dataframe thead th {\n",
              "        text-align: right;\n",
              "    }\n",
              "</style>\n",
              "<table border=\"1\" class=\"dataframe\">\n",
              "  <thead>\n",
              "    <tr style=\"text-align: right;\">\n",
              "      <th></th>\n",
              "      <th>latitude</th>\n",
              "      <th>housing_median_age</th>\n",
              "      <th>total_rooms</th>\n",
              "      <th>total_bedrooms</th>\n",
              "      <th>population</th>\n",
              "      <th>households</th>\n",
              "      <th>median_income</th>\n",
              "      <th>median_house_value</th>\n",
              "    </tr>\n",
              "    <tr>\n",
              "      <th>longitude</th>\n",
              "      <th></th>\n",
              "      <th></th>\n",
              "      <th></th>\n",
              "      <th></th>\n",
              "      <th></th>\n",
              "      <th></th>\n",
              "      <th></th>\n",
              "      <th></th>\n",
              "    </tr>\n",
              "  </thead>\n",
              "  <tbody>\n",
              "    <tr>\n",
              "      <th>-122.05</th>\n",
              "      <td>37.37</td>\n",
              "      <td>27.0</td>\n",
              "      <td>3885.0</td>\n",
              "      <td>661.0</td>\n",
              "      <td>1537.0</td>\n",
              "      <td>606.0</td>\n",
              "      <td>6.6085</td>\n",
              "      <td>344700.0</td>\n",
              "    </tr>\n",
              "    <tr>\n",
              "      <th>-122.05</th>\n",
              "      <td>37.36</td>\n",
              "      <td>34.0</td>\n",
              "      <td>2400.0</td>\n",
              "      <td>419.0</td>\n",
              "      <td>1017.0</td>\n",
              "      <td>384.0</td>\n",
              "      <td>4.1369</td>\n",
              "      <td>316900.0</td>\n",
              "    </tr>\n",
              "    <tr>\n",
              "      <th>-122.05</th>\n",
              "      <td>38.26</td>\n",
              "      <td>21.0</td>\n",
              "      <td>7195.0</td>\n",
              "      <td>1416.0</td>\n",
              "      <td>3927.0</td>\n",
              "      <td>1377.0</td>\n",
              "      <td>3.0912</td>\n",
              "      <td>126300.0</td>\n",
              "    </tr>\n",
              "    <tr>\n",
              "      <th>-122.05</th>\n",
              "      <td>37.05</td>\n",
              "      <td>41.0</td>\n",
              "      <td>2422.0</td>\n",
              "      <td>502.0</td>\n",
              "      <td>915.0</td>\n",
              "      <td>366.0</td>\n",
              "      <td>4.1679</td>\n",
              "      <td>201300.0</td>\n",
              "    </tr>\n",
              "    <tr>\n",
              "      <th>-122.05</th>\n",
              "      <td>37.93</td>\n",
              "      <td>15.0</td>\n",
              "      <td>7803.0</td>\n",
              "      <td>1603.0</td>\n",
              "      <td>2957.0</td>\n",
              "      <td>1546.0</td>\n",
              "      <td>4.4500</td>\n",
              "      <td>184900.0</td>\n",
              "    </tr>\n",
              "    <tr>\n",
              "      <th>-122.05</th>\n",
              "      <td>37.31</td>\n",
              "      <td>25.0</td>\n",
              "      <td>4601.0</td>\n",
              "      <td>696.0</td>\n",
              "      <td>2003.0</td>\n",
              "      <td>666.0</td>\n",
              "      <td>8.0727</td>\n",
              "      <td>455500.0</td>\n",
              "    </tr>\n",
              "    <tr>\n",
              "      <th>-122.05</th>\n",
              "      <td>37.38</td>\n",
              "      <td>24.0</td>\n",
              "      <td>2424.0</td>\n",
              "      <td>501.0</td>\n",
              "      <td>1367.0</td>\n",
              "      <td>507.0</td>\n",
              "      <td>4.0720</td>\n",
              "      <td>364200.0</td>\n",
              "    </tr>\n",
              "  </tbody>\n",
              "</table>\n",
              "</div>"
            ],
            "text/plain": [
              "           latitude  housing_median_age  ...  median_income  median_house_value\n",
              "longitude                                ...                                   \n",
              "-122.05       37.37                27.0  ...         6.6085            344700.0\n",
              "-122.05       37.36                34.0  ...         4.1369            316900.0\n",
              "-122.05       38.26                21.0  ...         3.0912            126300.0\n",
              "-122.05       37.05                41.0  ...         4.1679            201300.0\n",
              "-122.05       37.93                15.0  ...         4.4500            184900.0\n",
              "-122.05       37.31                25.0  ...         8.0727            455500.0\n",
              "-122.05       37.38                24.0  ...         4.0720            364200.0\n",
              "\n",
              "[7 rows x 8 columns]"
            ]
          },
          "metadata": {
            "tags": []
          },
          "execution_count": 24
        }
      ]
    },
    {
      "cell_type": "code",
      "metadata": {
        "id": "e8ziOiqqbssr"
      },
      "source": [
        ""
      ],
      "execution_count": null,
      "outputs": []
    }
  ]
}